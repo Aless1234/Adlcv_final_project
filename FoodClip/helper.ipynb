{
 "cells": [
  {
   "cell_type": "code",
   "execution_count": null,
   "metadata": {},
   "outputs": [
    {
     "ename": "",
     "evalue": "",
     "output_type": "error",
     "traceback": [
      "\u001b[1;31mFailed to connect to the remote Jupyter Server 'http://n-62-27-18:8889/'. Verify the server is running and reachable."
     ]
    }
   ],
   "source": [
    "import torch\n",
    "import torch.nn as nn\n",
    "import torchvision.models as pretrained_models\n",
    "from transformers import GPT2Model,BertModel\n",
    "from model import ModifiedResNet, ModifiedBert\n",
    "import matplotlib.pyplot as plt\n",
    "from PIL import Image\n",
    "import os,csv\n",
    "import numpy as np"
   ]
  },
  {
   "cell_type": "code",
   "execution_count": null,
   "metadata": {},
   "outputs": [],
   "source": [
    "#Look at the layers of the pretrained models\n",
    "device = torch.device(\"cuda\" if torch.cuda.is_available() else \"cpu\")\n",
    "# Load your model\n",
    "model = ModifiedResNet().to(device)\n",
    "model2 = ModifiedBert().to(device)\n",
    "\n",
    "# Print all modules in the model of Resnet\n",
    "for module_name, module in model.named_modules():\n",
    "    print(f\"Module Name: {module_name} | Module Type: {type(module)}\\n\")\n",
    "\n",
    "# Print all modules of Modiefied Bert\n",
    "for module_name, module in model2.named_modules():\n",
    "    print(f\"Module Name: {module_name} | Module Type: {type(module)}\\n\")"
   ]
  },
  {
   "cell_type": "code",
   "execution_count": null,
   "metadata": {},
   "outputs": [],
   "source": [
    "#Check how the dimensions of the input images are to transform them to an appropriate size\n",
    "image_path_ordered = []\n",
    "food_title_ordered = []\n",
    "root_dir = os.path.dirname(os.path.dirname(os.path.abspath(__file__)))\n",
    "csv_path = os.path.join(f\"{root_dir}/\", 'Data/Food_Ingredients.csv')  # requires `import os`\n",
    "# Open the CSV file\n",
    "with open(csv_path, 'r') as file:\n",
    "    # Create a CSV reader\n",
    "    reader = csv.reader(file)\n",
    "    next(reader, None)\n",
    "    \n",
    "    # Iterate over each row in the CSV file\n",
    "    for row in reader:\n",
    "        # Get the image name from the desired column (e.g., column index 0)\n",
    "        image_name = row[4]\n",
    "        \n",
    "        # Construct the file path to the image\n",
    "        image_path = os.path.join(f\"{root_dir}/\", f\"Data/FoodImages/FoodImages/{image_name}.jpg\")\n",
    "        #Add path and title to the lists\n",
    "        image_path_ordered.append(image_path)\n",
    "        food_title_ordered.append(row[1])\n",
    "\n",
    "# Assuming `image_path_ordered` contains the paths to your images\n",
    "image_sizes = []\n",
    "\n",
    "for image_path in image_path_ordered:\n",
    "    with Image.open(image_path) as img:\n",
    "        image_sizes.append(img.size)  # img.size is a tuple (width, height)\n",
    "\n",
    "# Separate widths and heights for easier analysis\n",
    "widths, heights = zip(*image_sizes)\n",
    "\n",
    "# Calculate average and median of widths\n",
    "width_avg = np.mean(widths)\n",
    "width_median = np.median(widths)\n",
    "\n",
    "# Calculate average and median of heights\n",
    "height_avg = np.mean(heights)\n",
    "height_median = np.median(heights)\n",
    "\n",
    "print(f\"Widths average: {width_avg}\")\n",
    "print(f\"Widths median: {width_median}\")\n",
    "print(f\"Heights average: {height_avg}\")\n",
    "print(f\"Heights median: {height_median}\")\n",
    "\n",
    "print(f\"Widths average : {widths}\")\n",
    "\n",
    "plt.figure(figsize=(12, 6))\n",
    "\n",
    "# Histogram for widths\n",
    "plt.subplot(1, 2, 1)\n",
    "plt.hist(widths, bins=30, color='skyblue')\n",
    "plt.title('Distribution of Image Widths')\n",
    "plt.xlabel('Width')\n",
    "plt.ylabel('Frequency')\n",
    "\n",
    "# Histogram for heights\n",
    "plt.subplot(1, 2, 2)\n",
    "plt.hist(heights, bins=30, color='salmon')\n",
    "plt.title('Distribution of Image Heights')\n",
    "plt.xlabel('Height')\n",
    "plt.ylabel('Frequency')\n",
    "\n",
    "plt.tight_layout()\n",
    "plt.show()\n"
   ]
  },
  {
   "cell_type": "code",
   "execution_count": null,
   "metadata": {},
   "outputs": [],
   "source": []
  }
 ],
 "metadata": {
  "kernelspec": {
   "display_name": "Python 3 (ipykernel)",
   "language": "python",
   "name": "python3"
  },
  "language_info": {
   "codemirror_mode": {
    "name": "ipython",
    "version": 3
   },
   "file_extension": ".py",
   "mimetype": "text/x-python",
   "name": "python",
   "nbconvert_exporter": "python",
   "pygments_lexer": "ipython3",
   "version": "3.10.13"
  }
 },
 "nbformat": 4,
 "nbformat_minor": 2
}
